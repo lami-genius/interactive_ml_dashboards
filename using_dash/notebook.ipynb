{
 "cells": [
  {
   "cell_type": "markdown",
   "source": [
    "# Building Interactive Dashboards for Machine Learning using [Plotly Dash](https://plotly.com/dash/) \n",
    "\n",
    "### Models\n",
    "The models that will be in our data.\n",
    "\n",
    "- [Principal Component Analysis (PCA)](https://scikit-learn.org/stable/modules/generated/sklearn.decomposition.PCA.html)\n",
    "- [Uniform Manifold Approximation and Projection (UMAP)](https://umap-learn.readthedocs.io/en/latest/)\n",
    "- [Autoencoder (AE)](https://www.tensorflow.org/tutorials/generative/autoencoder)\n",
    "- [Variational Autoencoder (VAE) ](https://www.tensorflow.org/tutorials/generative/cvae)"
   ],
   "metadata": {}
  },
  {
   "cell_type": "code",
   "execution_count": 30,
   "source": [
    "# Import libaries\n",
    "import pandas as pd"
   ],
   "outputs": [],
   "metadata": {
    "collapsed": true,
    "jupyter": {
     "outputs_hidden": true
    }
   }
  },
  {
   "cell_type": "code",
   "execution_count": 31,
   "source": [
    "# Load data\n",
    "df = pd.read_csv('data/customer_dataset.csv')\n",
    "print('Shape of data', df.shape)\n",
    "df.head()"
   ],
   "outputs": [
    {
     "output_type": "stream",
     "name": "stdout",
     "text": [
      "Shape of data (440, 17)\n"
     ]
    },
    {
     "output_type": "execute_result",
     "data": {
      "text/plain": [
       "   Channel  Region  Fresh  Milk  Grocery  Frozen  Detergents_Paper  \\\n",
       "0        2       3  12669  9656     7561     214              2674   \n",
       "1        2       3   7057  9810     9568    1762              3293   \n",
       "2        2       3   6353  8808     7684    2405              3516   \n",
       "3        1       3  13265  1196     4221    6404               507   \n",
       "4        2       3  22615  5410     7198    3915              1777   \n",
       "\n",
       "   Delicatessen     pca_x     pca_y     umap_x    umap_y      ae_x      ae_y  \\\n",
       "0          1338  0.193291 -0.305100   7.084310  6.933166  3.548878  3.811006   \n",
       "1          1776  0.434420 -0.328413   6.252880  7.050780  3.579156  2.955884   \n",
       "2          7844  0.811143  0.815096   8.588828  6.877347  1.341199  2.187068   \n",
       "3          1788 -0.778648  0.652754  13.654358  7.857928  6.349530  8.099434   \n",
       "4          5185  0.166287  1.271434   9.122227  5.977852  1.150562  3.304798   \n",
       "\n",
       "      vae_x     vae_y  Total_Spend  \n",
       "0  0.828640  0.798793        34112  \n",
       "1  0.838629  0.814789        33266  \n",
       "2  0.841106  0.797111        36610  \n",
       "3  0.814431  0.814974        27381  \n",
       "4  0.853156  0.828196        46100  "
      ],
      "text/html": [
       "<div>\n",
       "<style scoped>\n",
       "    .dataframe tbody tr th:only-of-type {\n",
       "        vertical-align: middle;\n",
       "    }\n",
       "\n",
       "    .dataframe tbody tr th {\n",
       "        vertical-align: top;\n",
       "    }\n",
       "\n",
       "    .dataframe thead th {\n",
       "        text-align: right;\n",
       "    }\n",
       "</style>\n",
       "<table border=\"1\" class=\"dataframe\">\n",
       "  <thead>\n",
       "    <tr style=\"text-align: right;\">\n",
       "      <th></th>\n",
       "      <th>Channel</th>\n",
       "      <th>Region</th>\n",
       "      <th>Fresh</th>\n",
       "      <th>Milk</th>\n",
       "      <th>Grocery</th>\n",
       "      <th>Frozen</th>\n",
       "      <th>Detergents_Paper</th>\n",
       "      <th>Delicatessen</th>\n",
       "      <th>pca_x</th>\n",
       "      <th>pca_y</th>\n",
       "      <th>umap_x</th>\n",
       "      <th>umap_y</th>\n",
       "      <th>ae_x</th>\n",
       "      <th>ae_y</th>\n",
       "      <th>vae_x</th>\n",
       "      <th>vae_y</th>\n",
       "      <th>Total_Spend</th>\n",
       "    </tr>\n",
       "  </thead>\n",
       "  <tbody>\n",
       "    <tr>\n",
       "      <th>0</th>\n",
       "      <td>2</td>\n",
       "      <td>3</td>\n",
       "      <td>12669</td>\n",
       "      <td>9656</td>\n",
       "      <td>7561</td>\n",
       "      <td>214</td>\n",
       "      <td>2674</td>\n",
       "      <td>1338</td>\n",
       "      <td>0.193291</td>\n",
       "      <td>-0.305100</td>\n",
       "      <td>7.084310</td>\n",
       "      <td>6.933166</td>\n",
       "      <td>3.548878</td>\n",
       "      <td>3.811006</td>\n",
       "      <td>0.828640</td>\n",
       "      <td>0.798793</td>\n",
       "      <td>34112</td>\n",
       "    </tr>\n",
       "    <tr>\n",
       "      <th>1</th>\n",
       "      <td>2</td>\n",
       "      <td>3</td>\n",
       "      <td>7057</td>\n",
       "      <td>9810</td>\n",
       "      <td>9568</td>\n",
       "      <td>1762</td>\n",
       "      <td>3293</td>\n",
       "      <td>1776</td>\n",
       "      <td>0.434420</td>\n",
       "      <td>-0.328413</td>\n",
       "      <td>6.252880</td>\n",
       "      <td>7.050780</td>\n",
       "      <td>3.579156</td>\n",
       "      <td>2.955884</td>\n",
       "      <td>0.838629</td>\n",
       "      <td>0.814789</td>\n",
       "      <td>33266</td>\n",
       "    </tr>\n",
       "    <tr>\n",
       "      <th>2</th>\n",
       "      <td>2</td>\n",
       "      <td>3</td>\n",
       "      <td>6353</td>\n",
       "      <td>8808</td>\n",
       "      <td>7684</td>\n",
       "      <td>2405</td>\n",
       "      <td>3516</td>\n",
       "      <td>7844</td>\n",
       "      <td>0.811143</td>\n",
       "      <td>0.815096</td>\n",
       "      <td>8.588828</td>\n",
       "      <td>6.877347</td>\n",
       "      <td>1.341199</td>\n",
       "      <td>2.187068</td>\n",
       "      <td>0.841106</td>\n",
       "      <td>0.797111</td>\n",
       "      <td>36610</td>\n",
       "    </tr>\n",
       "    <tr>\n",
       "      <th>3</th>\n",
       "      <td>1</td>\n",
       "      <td>3</td>\n",
       "      <td>13265</td>\n",
       "      <td>1196</td>\n",
       "      <td>4221</td>\n",
       "      <td>6404</td>\n",
       "      <td>507</td>\n",
       "      <td>1788</td>\n",
       "      <td>-0.778648</td>\n",
       "      <td>0.652754</td>\n",
       "      <td>13.654358</td>\n",
       "      <td>7.857928</td>\n",
       "      <td>6.349530</td>\n",
       "      <td>8.099434</td>\n",
       "      <td>0.814431</td>\n",
       "      <td>0.814974</td>\n",
       "      <td>27381</td>\n",
       "    </tr>\n",
       "    <tr>\n",
       "      <th>4</th>\n",
       "      <td>2</td>\n",
       "      <td>3</td>\n",
       "      <td>22615</td>\n",
       "      <td>5410</td>\n",
       "      <td>7198</td>\n",
       "      <td>3915</td>\n",
       "      <td>1777</td>\n",
       "      <td>5185</td>\n",
       "      <td>0.166287</td>\n",
       "      <td>1.271434</td>\n",
       "      <td>9.122227</td>\n",
       "      <td>5.977852</td>\n",
       "      <td>1.150562</td>\n",
       "      <td>3.304798</td>\n",
       "      <td>0.853156</td>\n",
       "      <td>0.828196</td>\n",
       "      <td>46100</td>\n",
       "    </tr>\n",
       "  </tbody>\n",
       "</table>\n",
       "</div>"
      ]
     },
     "metadata": {},
     "execution_count": 31
    }
   ],
   "metadata": {}
  },
  {
   "cell_type": "code",
   "execution_count": 52,
   "source": [
    "# Columns of interest\n",
    "columns = [col for col in df.columns if not (col.endswith('_x') or col.endswith('_y'))]\n",
    "print(columns)"
   ],
   "outputs": [
    {
     "output_type": "stream",
     "name": "stdout",
     "text": [
      "['Channel', 'Region', 'Fresh', 'Milk', 'Grocery', 'Frozen', 'Detergents_Paper', 'Delicatessen', 'Total_Spend']\n"
     ]
    }
   ],
   "metadata": {}
  },
  {
   "cell_type": "code",
   "execution_count": 33,
   "source": [
    "# Unique columns with at most 50 unique values\n",
    "for col in df.columns:\n",
    "    if len(df[col].unique()) <= 50:\n",
    "        print(col)\n",
    "        print(df[col].unique())"
   ],
   "outputs": [
    {
     "output_type": "stream",
     "name": "stdout",
     "text": [
      "Channel\n",
      "[2 1]\n",
      "Region\n",
      "[3 1 2]\n"
     ]
    }
   ],
   "metadata": {}
  },
  {
   "cell_type": "code",
   "execution_count": 51,
   "source": [
    "models = ['PCA', 'UMAP', 'AE', 'VAE']\n",
    "user_view_models = ['Principal Component Analysis',\n",
    "                    'Uniform Manifold Approximation and Projection',\n",
    "                    'Autoencoder', 'Variational Autoencoder']\n",
    "\n",
    "res = {user_view_models[i] : models[i] for i in range(len(models))}\n",
    "\n",
    "output_format = []\n",
    "label = \"'label': \"\n",
    "value = \", 'value': \"\n",
    "quotes = \"'\"\n",
    "for key, val in res.items():\n",
    "    output_format.append('{')\n",
    "    output_format.append(label + quotes + key + quotes + value + quotes + val + quotes)\n",
    "    output_format.append('}, \\n')\n",
    "\n",
    "output_format = ''.join(output_format)    \n",
    "print(output_format)"
   ],
   "outputs": [
    {
     "output_type": "stream",
     "name": "stdout",
     "text": [
      "{'label': 'Principal Component Analysis', 'value': 'PCA'}, \n",
      "{'label': 'Uniform Manifold Approximation and Projection', 'value': 'UMAP'}, \n",
      "{'label': 'Autoencoder', 'value': 'AE'}, \n",
      "{'label': 'Variational Autoencoder', 'value': 'VAE'}, \n",
      "\n"
     ]
    }
   ],
   "metadata": {}
  },
  {
   "cell_type": "code",
   "execution_count": 50,
   "source": [
    "# Color skims\n",
    "color_values = ['OrRd', 'Viridis', 'Plasma']\n",
    "color_labels = ['Orange to Red', 'Viridis', 'Plasma']\n",
    "\n",
    "res = {color_labels[i] : color_values[i] for i in range(len(color_labels))}\n",
    "\n",
    "output_format = []\n",
    "label = \"'label': \"\n",
    "value = \", 'value': \"\n",
    "quotes = \"'\"\n",
    "for key, val in res.items():\n",
    "    output_format.append('{')\n",
    "    output_format.append(label + quotes + key + quotes + value + quotes + val + quotes)\n",
    "    output_format.append('}, \\n')\n",
    "\n",
    "output_format = ''.join(output_format)    \n",
    "print(output_format)"
   ],
   "outputs": [
    {
     "output_type": "stream",
     "name": "stdout",
     "text": [
      "{'label': 'Orange to Red', 'value': 'OrRd'}, \n",
      "{'label': 'Viridis', 'value': 'Viridis'}, \n",
      "{'label': 'Plasma', 'value': 'Plasma'}, \n",
      "\n"
     ]
    }
   ],
   "metadata": {}
  },
  {
   "cell_type": "code",
   "execution_count": 54,
   "source": [
    "df_average = df[columns].mean()\n",
    "df_average"
   ],
   "outputs": [
    {
     "output_type": "execute_result",
     "data": {
      "text/plain": [
       "Channel                 1.322727\n",
       "Region                  2.543182\n",
       "Fresh               12000.297727\n",
       "Milk                 5796.265909\n",
       "Grocery              7951.277273\n",
       "Frozen               3071.931818\n",
       "Detergents_Paper     2881.493182\n",
       "Delicatessen         1524.870455\n",
       "Total_Spend         33226.136364\n",
       "dtype: float64"
      ]
     },
     "metadata": {},
     "execution_count": 54
    }
   ],
   "metadata": {}
  }
 ],
 "metadata": {
  "kernelspec": {
   "name": "python3",
   "display_name": "Python 3.8.10 64-bit"
  },
  "language_info": {
   "codemirror_mode": {
    "name": "ipython",
    "version": 3
   },
   "file_extension": ".py",
   "mimetype": "text/x-python",
   "name": "python",
   "nbconvert_exporter": "python",
   "pygments_lexer": "ipython3",
   "version": "3.8.10"
  },
  "interpreter": {
   "hash": "31f2aee4e71d21fbe5cf8b01ff0e069b9275f58929596ceb00d14d90e3e16cd6"
  }
 },
 "nbformat": 4,
 "nbformat_minor": 4
}